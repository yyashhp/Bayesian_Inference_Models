{
 "cells": [
  {
   "cell_type": "code",
   "execution_count": 19,
   "id": "46d08826",
   "metadata": {},
   "outputs": [],
   "source": [
    "import numpy as np\n",
    "from scipy import stats\n",
    "from matplotlib import pyplot as plt"
   ]
  },
  {
   "cell_type": "code",
   "execution_count": 20,
   "id": "17e7b629",
   "metadata": {},
   "outputs": [],
   "source": [
    "# Create a list of the number of coin tosses (\"Bernoulli trials\")\n",
    "number_of_trials = [0, 2, 10, 20, 50, 500]\n",
    "# Conduct 500 coin tosses and output into a list of 0s and 1s\n",
    "# where 0 represents a tail and 1 represents a head\n",
    "data = stats.bernoulli.rvs(0.5, size=number_of_trials[-1])\n",
    "# Discretise the x-axis into 100 separate plotting points"
   ]
  },
  {
   "cell_type": "code",
   "execution_count": 21,
   "id": "2b106c10",
   "metadata": {},
   "outputs": [],
   "source": [
    "x = np.linspace(0, 1, 100)\n",
    "# Loops over the number_of_trials list to continually add\n",
    "# more coin toss data. For each new set of data, we update\n",
    "# our (current) prior belief to be a new posterior. This is\n",
    "# carried out using what is known as the Beta-Binomial model.\n",
    "# For the time being, we won’t worry about this too much."
   ]
  },
  {
   "cell_type": "code",
   "execution_count": 32,
   "id": "66e4f34c",
   "metadata": {},
   "outputs": [
    {
     "data": {
      "text/plain": [
       "<matplotlib.collections.PolyCollection at 0x7f92a1581c10>"
      ]
     },
     "execution_count": 32,
     "metadata": {},
     "output_type": "execute_result"
    },
    {
     "data": {
      "image/png": "[encoded data removed]",
      "text/plain": [
       "<Figure size 432x288 with 6 Axes>"
      ]
     },
     "metadata": {
      "needs_background": "light"
     },
     "output_type": "display_data"
    }
   ],
   "source": [
    "for i, N in enumerate(number_of_trials):\n",
    "# Accumulate the total number of heads for this\n",
    "# particular Bayesian update\n",
    "    heads = data[:N].sum()\n",
    "# Create an axes subplot for each update\n",
    "    ax = plt.subplot((int)(len(number_of_trials) / 2), 2, i + 1)\n",
    "    ax.set_title(\"%s trials, %s heads\" % (N, heads))\n",
    "    # Add labels to both axes and hide labels on y-axis\n",
    "    plt.xlabel(\"$P(H)$, Probability of Heads\")\n",
    "    plt.ylabel(\"Density\")\n",
    "    if i == 0:\n",
    "        plt.ylim([0.0, 2.0])\n",
    "    plt.setp(ax.get_yticklabels(), visible=False)\n",
    "    # Create and plot a Beta distribution to represent the\n",
    "# posterior belief in fairness of the coin.\n",
    "y = stats.beta.pdf(x, 1 + heads, 1 + N - heads)\n",
    "plt.plot(x, y, label=\"observe %d tosses,\\n %d heads\" % (N, heads))\n",
    "plt.fill_between(x, 0, y, color=\"#aaaadd\", alpha=0.5)"
   ]
  },
  {
   "cell_type": "code",
   "execution_count": 30,
   "id": "ac2b3ec4",
   "metadata": {},
   "outputs": [
    {
     "data": {
      "text/plain": [
       "<Figure size 432x288 with 0 Axes>"
      ]
     },
     "metadata": {},
     "output_type": "display_data"
    }
   ],
   "source": [
    "# Expand plot to cover full width/height and show it\n",
    "plt.tight_layout()\n",
    "plt.show()"
   ]
  },
  {
   "cell_type": "code",
   "execution_count": null,
   "id": "ac5f471b",
   "metadata": {},
   "outputs": [],
   "source": []
  },
  {
   "cell_type": "code",
   "execution_count": null,
   "id": "721f4926",
   "metadata": {},
   "outputs": [],
   "source": []
  }
 ],
 "metadata": {
  "kernelspec": {
   "display_name": "Python 3 (ipykernel)",
   "language": "python",
   "name": "python3"
  },
  "language_info": {
   "codemirror_mode": {
    "name": "ipython",
    "version": 3
   },
   "file_extension": ".py",
   "mimetype": "text/x-python",
   "name": "python",
   "nbconvert_exporter": "python",
   "pygments_lexer": "ipython3",
   "version": "3.9.12"
  }
 },
 "nbformat": 4,
 "nbformat_minor": 5
}
